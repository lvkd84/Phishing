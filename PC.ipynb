{
 "cells": [
  {
   "cell_type": "code",
   "execution_count": 1,
   "metadata": {},
   "outputs": [],
   "source": [
    "from scipy.io import arff\n",
    "import pandas as pd\n",
    "from pgmpy.estimators import ConstraintBasedEstimator\n",
    "from pgmpy.models import BayesianModel\n",
    "import networkx as nx\n",
    "import matplotlib.pyplot as plt"
   ]
  },
  {
   "cell_type": "code",
   "execution_count": 2,
   "metadata": {},
   "outputs": [],
   "source": [
    "load_data1 = arff.loadarff('Phishing1.arff')\n",
    "df1 = pd.DataFrame(load_data1[0])\n",
    "\n",
    "load_data2 = arff.loadarff('Phishing2.arff')\n",
    "df2 = pd.DataFrame(load_data2[0])"
   ]
  },
  {
   "cell_type": "code",
   "execution_count": 3,
   "metadata": {},
   "outputs": [
    {
     "name": "stderr",
     "output_type": "stream",
     "text": [
      "/Library/Frameworks/Python.framework/Versions/3.6/lib/python3.6/site-packages/pgmpy/estimators/ConstraintBasedEstimator.py:326: UserWarning: PDAG has no faithful extension (= no oriented DAG with the same v-structures as PDAG). Remaining undirected PDAG edges oriented arbitrarily.\n",
      "  \"oriented arbitrarily.\")\n"
     ]
    },
    {
     "data": {
      "text/plain": [
       "[('SFH', 'Result'),\n",
       " ('popUpWidnow', 'Result'),\n",
       " ('popUpWidnow', 'SSLfinal_State'),\n",
       " ('SSLfinal_State', 'SFH'),\n",
       " ('SSLfinal_State', 'Result'),\n",
       " ('Request_URL', 'SFH'),\n",
       " ('Request_URL', 'URL_of_Anchor'),\n",
       " ('URL_of_Anchor', 'SFH'),\n",
       " ('age_of_domain', 'web_traffic'),\n",
       " ('having_IP_Address', 'URL_Length')]"
      ]
     },
     "execution_count": 3,
     "metadata": {},
     "output_type": "execute_result"
    }
   ],
   "source": [
    "est_PC = ConstraintBasedEstimator(df1)\n",
    "model_PC = est_PC.estimate()\n",
    "model_PC.edges()"
   ]
  },
  {
   "cell_type": "code",
   "execution_count": null,
   "metadata": {},
   "outputs": [],
   "source": []
  },
  {
   "cell_type": "code",
   "execution_count": null,
   "metadata": {},
   "outputs": [],
   "source": [
    "est_PC = ConstraintBasedEstimator(df2)\n",
    "model_PC = est_PC.estimate()\n",
    "model_PC.edges()"
   ]
  },
  {
   "cell_type": "code",
   "execution_count": null,
   "metadata": {},
   "outputs": [],
   "source": []
  }
 ],
 "metadata": {
  "kernelspec": {
   "display_name": "Python 3",
   "language": "python",
   "name": "python3"
  },
  "language_info": {
   "codemirror_mode": {
    "name": "ipython",
    "version": 3
   },
   "file_extension": ".py",
   "mimetype": "text/x-python",
   "name": "python",
   "nbconvert_exporter": "python",
   "pygments_lexer": "ipython3",
   "version": "3.6.4"
  }
 },
 "nbformat": 4,
 "nbformat_minor": 2
}
