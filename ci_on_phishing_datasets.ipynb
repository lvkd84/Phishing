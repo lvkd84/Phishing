{
 "cells": [
  {
   "cell_type": "code",
   "execution_count": 1,
   "metadata": {},
   "outputs": [],
   "source": [
    "from scipy.io import arff\n",
    "import pandas as pd\n",
    "import calculate"
   ]
  },
  {
   "cell_type": "markdown",
   "metadata": {},
   "source": [
    "For some of the attributes, we have 1=legit, 0=suspicious, and -1=phishy. To simplify, we binarize these variables putting the suspicious websites in with the phishy ones setting the labels to 1=legit and 0=phishy."
   ]
  },
  {
   "cell_type": "code",
   "execution_count": 2,
   "metadata": {
    "collapsed": true
   },
   "outputs": [],
   "source": [
    "load_data1 = arff.loadarff('Phishing1.arff')\n",
    "df1 = pd.DataFrame(load_data1[0]).astype(int)\n",
    "df1=(df1.replace(-1,0)).values # move -1 (phishy) to 0 (suspicious), 0 is now phishy\n",
    "\n",
    "load_data2 = arff.loadarff('Phishing2.arff')\n",
    "df2 = pd.DataFrame(load_data2[0]).astype(int)\n",
    "df2=(df2.replace(-1,0)).values"
   ]
  },
  {
   "cell_type": "code",
   "execution_count": 3,
   "metadata": {
    "collapsed": true
   },
   "outputs": [],
   "source": [
    "p1_index={\"S\":0, \"P\":1, \"H\":2, \"R\":3, \"A\":4, \"T\":5, \"L\":6, \"D\":7, \"I\":8, \"Ph\":9}\n",
    "p2_index = {\"I\":0, \"L\":1, \"H\":7, \"R\":12, \"A\":13, \"S\":15, \"P\":21, \"D\":23, \"T\":25, \"Ph\":30}"
   ]
  },
  {
   "cell_type": "code",
   "execution_count": 4,
   "metadata": {
    "collapsed": true
   },
   "outputs": [],
   "source": [
    "def run_calculations(a, y, l=None):\n",
    "    if l==None:\n",
    "        print(\"Phishing 1:\")\n",
    "        calculate.calculate_ass_effects(df1, p1_index[a], p1_index[y])\n",
    "    \n",
    "        print(\"Phishing 2:\")\n",
    "        calculate.calculate_ass_effects(df2, p2_index[a], p2_index[y])\n",
    "    else:\n",
    "        print(\"Phishing 1:\")\n",
    "        calculate.calculate_ass_effects(df1, p1_index[a], p1_index[y], p1_index[l])\n",
    "    \n",
    "        print(\"Phishing 2:\")\n",
    "        calculate.calculate_ass_effects(df2, p2_index[a], p2_index[y], p2_index[l])"
   ]
  },
  {
   "cell_type": "markdown",
   "metadata": {},
   "source": [
    "Put the Graph Here"
   ]
  },
  {
   "cell_type": "code",
   "execution_count": 5,
   "metadata": {
    "scrolled": true
   },
   "outputs": [
    {
     "name": "stdout",
     "output_type": "stream",
     "text": [
      "\n",
      "Phishing -> SSL_final_state\n",
      "Phishing 1:\n",
      "Risk difference: 0.047619047619\n",
      "Risk ratio: 1.16666666667\n",
      "Odds ratio: 1.25\n",
      "Phishing 2:\n",
      "Risk difference: 0.700854700855\n",
      "Risk ratio: 10.1111111111\n",
      "Odds ratio: 42.0\n",
      "\n",
      "Phishing -> having_IP_address\n",
      "Phishing 1:\n"
     ]
    },
    {
     "ename": "ValueError",
     "evalue": "Positivity was violated when calculating P(Y=1|A=1)",
     "output_type": "error",
     "traceback": [
      "\u001b[0;31m---------------------------------------------------------------------------\u001b[0m",
      "\u001b[0;31mValueError\u001b[0m                                Traceback (most recent call last)",
      "\u001b[0;32m<ipython-input-5-932f3d93d4de>\u001b[0m in \u001b[0;36m<module>\u001b[0;34m()\u001b[0m\n\u001b[1;32m      3\u001b[0m \u001b[0;34m\u001b[0m\u001b[0m\n\u001b[1;32m      4\u001b[0m \u001b[0mprint\u001b[0m\u001b[0;34m(\u001b[0m\u001b[0;34m\"\\nPhishing -> having_IP_address\"\u001b[0m\u001b[0;34m)\u001b[0m\u001b[0;34m\u001b[0m\u001b[0m\n\u001b[0;32m----> 5\u001b[0;31m \u001b[0mrun_calculations\u001b[0m\u001b[0;34m(\u001b[0m\u001b[0;34m\"Ph\"\u001b[0m\u001b[0;34m,\u001b[0m \u001b[0;34m\"I\"\u001b[0m\u001b[0;34m)\u001b[0m\u001b[0;34m\u001b[0m\u001b[0m\n\u001b[0m\u001b[1;32m      6\u001b[0m \u001b[0;34m\u001b[0m\u001b[0m\n\u001b[1;32m      7\u001b[0m \u001b[0mprint\u001b[0m\u001b[0;34m(\u001b[0m\u001b[0;34m\"\\nPhishing -> URL_length\"\u001b[0m\u001b[0;34m)\u001b[0m\u001b[0;34m\u001b[0m\u001b[0m\n",
      "\u001b[0;32m<ipython-input-4-d0c655465c2c>\u001b[0m in \u001b[0;36mrun_calculations\u001b[0;34m(a, y, l)\u001b[0m\n\u001b[1;32m      2\u001b[0m     \u001b[0;32mif\u001b[0m \u001b[0ml\u001b[0m\u001b[0;34m==\u001b[0m\u001b[0;32mNone\u001b[0m\u001b[0;34m:\u001b[0m\u001b[0;34m\u001b[0m\u001b[0m\n\u001b[1;32m      3\u001b[0m         \u001b[0mprint\u001b[0m\u001b[0;34m(\u001b[0m\u001b[0;34m\"Phishing 1:\"\u001b[0m\u001b[0;34m)\u001b[0m\u001b[0;34m\u001b[0m\u001b[0m\n\u001b[0;32m----> 4\u001b[0;31m         \u001b[0mcalculate\u001b[0m\u001b[0;34m.\u001b[0m\u001b[0mcalculate_ass_effects\u001b[0m\u001b[0;34m(\u001b[0m\u001b[0mdf1\u001b[0m\u001b[0;34m,\u001b[0m \u001b[0mp1_index\u001b[0m\u001b[0;34m[\u001b[0m\u001b[0ma\u001b[0m\u001b[0;34m]\u001b[0m\u001b[0;34m,\u001b[0m \u001b[0mp1_index\u001b[0m\u001b[0;34m[\u001b[0m\u001b[0my\u001b[0m\u001b[0;34m]\u001b[0m\u001b[0;34m)\u001b[0m\u001b[0;34m\u001b[0m\u001b[0m\n\u001b[0m\u001b[1;32m      5\u001b[0m \u001b[0;34m\u001b[0m\u001b[0m\n\u001b[1;32m      6\u001b[0m         \u001b[0mprint\u001b[0m\u001b[0;34m(\u001b[0m\u001b[0;34m\"Phishing 2:\"\u001b[0m\u001b[0;34m)\u001b[0m\u001b[0;34m\u001b[0m\u001b[0m\n",
      "\u001b[0;32m/mnt/c/Users/conno/Documents/Joon/Causal/Phishing/calculate.py\u001b[0m in \u001b[0;36mcalculate_ass_effects\u001b[0;34m(data, indexOfA, indexOfY, indexOfL)\u001b[0m\n\u001b[1;32m    261\u001b[0m     \u001b[0maylcounts\u001b[0m \u001b[0;34m=\u001b[0m \u001b[0mcount\u001b[0m\u001b[0;34m(\u001b[0m\u001b[0mdata\u001b[0m\u001b[0;34m,\u001b[0m \u001b[0mindexOfA\u001b[0m\u001b[0;34m,\u001b[0m \u001b[0mindexOfY\u001b[0m\u001b[0;34m,\u001b[0m \u001b[0mindexOfL\u001b[0m\u001b[0;34m)\u001b[0m\u001b[0;34m\u001b[0m\u001b[0m\n\u001b[1;32m    262\u001b[0m \u001b[0;34m\u001b[0m\u001b[0m\n\u001b[0;32m--> 263\u001b[0;31m     \u001b[0mr_difference\u001b[0m \u001b[0;34m=\u001b[0m \u001b[0mrisk_difference\u001b[0m\u001b[0;34m(\u001b[0m\u001b[0mdata\u001b[0m\u001b[0;34m,\u001b[0m \u001b[0mindexOfA\u001b[0m\u001b[0;34m,\u001b[0m \u001b[0mindexOfY\u001b[0m\u001b[0;34m,\u001b[0m \u001b[0maylcounts\u001b[0m\u001b[0;34m,\u001b[0m \u001b[0mindexOfL\u001b[0m\u001b[0;34m)\u001b[0m\u001b[0;34m\u001b[0m\u001b[0m\n\u001b[0m\u001b[1;32m    264\u001b[0m     \u001b[0mr_ratio\u001b[0m \u001b[0;34m=\u001b[0m \u001b[0mrisk_ratio\u001b[0m\u001b[0;34m(\u001b[0m\u001b[0mdata\u001b[0m\u001b[0;34m,\u001b[0m \u001b[0mindexOfA\u001b[0m\u001b[0;34m,\u001b[0m \u001b[0mindexOfY\u001b[0m\u001b[0;34m,\u001b[0m \u001b[0maylcounts\u001b[0m\u001b[0;34m,\u001b[0m \u001b[0mindexOfL\u001b[0m\u001b[0;34m)\u001b[0m\u001b[0;34m\u001b[0m\u001b[0m\n\u001b[1;32m    265\u001b[0m     \u001b[0mo_ratio\u001b[0m \u001b[0;34m=\u001b[0m \u001b[0modds_ratio\u001b[0m\u001b[0;34m(\u001b[0m\u001b[0mdata\u001b[0m\u001b[0;34m,\u001b[0m \u001b[0mindexOfA\u001b[0m\u001b[0;34m,\u001b[0m \u001b[0mindexOfY\u001b[0m\u001b[0;34m,\u001b[0m \u001b[0maylcounts\u001b[0m\u001b[0;34m,\u001b[0m \u001b[0mindexOfL\u001b[0m\u001b[0;34m)\u001b[0m\u001b[0;34m\u001b[0m\u001b[0m\n",
      "\u001b[0;32m/mnt/c/Users/conno/Documents/Joon/Causal/Phishing/calculate.py\u001b[0m in \u001b[0;36mrisk_difference\u001b[0;34m(data, indexOfA, indexOfY, aylcounts, indexOfL)\u001b[0m\n\u001b[1;32m     91\u001b[0m     \u001b[0;32mif\u001b[0m \u001b[0mlen\u001b[0m\u001b[0;34m(\u001b[0m\u001b[0maylcounts\u001b[0m\u001b[0;34m)\u001b[0m\u001b[0;34m==\u001b[0m\u001b[0;36m0\u001b[0m\u001b[0;34m:\u001b[0m\u001b[0;34m\u001b[0m\u001b[0m\n\u001b[1;32m     92\u001b[0m         \u001b[0maylcounts\u001b[0m \u001b[0;34m=\u001b[0m \u001b[0mcount\u001b[0m\u001b[0;34m(\u001b[0m\u001b[0mdata\u001b[0m\u001b[0;34m,\u001b[0m \u001b[0mindexOfA\u001b[0m\u001b[0;34m,\u001b[0m \u001b[0mindexOfY\u001b[0m\u001b[0;34m,\u001b[0m \u001b[0mindexOfL\u001b[0m\u001b[0;34m)\u001b[0m\u001b[0;34m\u001b[0m\u001b[0m\n\u001b[0;32m---> 93\u001b[0;31m     \u001b[0;32mreturn\u001b[0m \u001b[0mcond_prob\u001b[0m\u001b[0;34m(\u001b[0m\u001b[0;36m1\u001b[0m\u001b[0;34m,\u001b[0m \u001b[0;36m1\u001b[0m\u001b[0;34m,\u001b[0m \u001b[0maylcounts\u001b[0m\u001b[0;34m)\u001b[0m \u001b[0;34m-\u001b[0m \u001b[0mcond_prob\u001b[0m\u001b[0;34m(\u001b[0m\u001b[0;36m0\u001b[0m\u001b[0;34m,\u001b[0m \u001b[0;36m1\u001b[0m\u001b[0;34m,\u001b[0m \u001b[0maylcounts\u001b[0m\u001b[0;34m)\u001b[0m\u001b[0;34m\u001b[0m\u001b[0m\n\u001b[0m\u001b[1;32m     94\u001b[0m \u001b[0;34m\u001b[0m\u001b[0m\n\u001b[1;32m     95\u001b[0m \u001b[0;34m\u001b[0m\u001b[0m\n",
      "\u001b[0;32m/mnt/c/Users/conno/Documents/Joon/Causal/Phishing/calculate.py\u001b[0m in \u001b[0;36mcond_prob\u001b[0;34m(aValueIndex, yValueIndex, aylcounts)\u001b[0m\n\u001b[1;32m     46\u001b[0m             \u001b[0mprobability\u001b[0m \u001b[0;34m+=\u001b[0m \u001b[0maylcounts\u001b[0m\u001b[0;34m[\u001b[0m\u001b[0maValueIndex\u001b[0m\u001b[0;34m]\u001b[0m\u001b[0;34m[\u001b[0m\u001b[0myValueIndex\u001b[0m\u001b[0;34m]\u001b[0m\u001b[0;34m[\u001b[0m\u001b[0ml\u001b[0m\u001b[0;34m]\u001b[0m \u001b[0;34m*\u001b[0m \u001b[0mlsum\u001b[0m \u001b[0;34m/\u001b[0m \u001b[0malSum\u001b[0m\u001b[0;34m\u001b[0m\u001b[0m\n\u001b[1;32m     47\u001b[0m     \u001b[0;32mif\u001b[0m \u001b[0;34m(\u001b[0m\u001b[0mprobability\u001b[0m\u001b[0;34m==\u001b[0m\u001b[0;36m0\u001b[0m\u001b[0;34m)\u001b[0m\u001b[0;34m:\u001b[0m\u001b[0;34m\u001b[0m\u001b[0m\n\u001b[0;32m---> 48\u001b[0;31m         \u001b[0;32mraise\u001b[0m \u001b[0mValueError\u001b[0m\u001b[0;34m(\u001b[0m\u001b[0;34m\"Positivity was violated when calculating P(Y=\"\u001b[0m\u001b[0;34m+\u001b[0m\u001b[0mstr\u001b[0m\u001b[0;34m(\u001b[0m\u001b[0myValueIndex\u001b[0m\u001b[0;34m)\u001b[0m\u001b[0;34m+\u001b[0m\u001b[0;34m\"|A=\"\u001b[0m\u001b[0;34m+\u001b[0m\u001b[0mstr\u001b[0m\u001b[0;34m(\u001b[0m\u001b[0maValueIndex\u001b[0m\u001b[0;34m)\u001b[0m\u001b[0;34m+\u001b[0m\u001b[0;34m\")\"\u001b[0m\u001b[0;34m)\u001b[0m\u001b[0;34m\u001b[0m\u001b[0m\n\u001b[0m\u001b[1;32m     49\u001b[0m     \u001b[0;32mreturn\u001b[0m \u001b[0mprobability\u001b[0m\u001b[0;34m\u001b[0m\u001b[0m\n\u001b[1;32m     50\u001b[0m \u001b[0;34m\u001b[0m\u001b[0m\n",
      "\u001b[0;31mValueError\u001b[0m: Positivity was violated when calculating P(Y=1|A=1)"
     ]
    }
   ],
   "source": [
    "print(\"\\nPhishing -> SSL_final_state\")\n",
    "run_calculations(\"Ph\", \"H\")\n",
    "\n",
    "print(\"\\nPhishing -> having_IP_address\")\n",
    "run_calculations(\"Ph\", \"I\")\n",
    "\n",
    "print(\"\\nPhishing -> URL_length\")\n",
    "run_calculations(\"Ph\", \"L\")\n",
    "\n",
    "print(\"\\nPhishing -> SFH\")\n",
    "run_calculations(\"Ph\", \"S\")\n",
    "\n",
    "print(\"\\nPhishing -> URL_of_anchor\")\n",
    "run_calculations(\"Ph\", \"A\")\n",
    "\n",
    "print(\"\\nPhishing -> Pop_up_window\")\n",
    "run_calculations(\"Ph\", \"P\")\n",
    "\n",
    "print(\"\\nPhishing -> Request_URL\")\n",
    "run_calculations(\"Ph\", \"R\")\n",
    "\n",
    "print(\"\\nPhishing -> Age_of_domain\")\n",
    "run_calculations(\"Ph\", \"D\")\n",
    "\n",
    "print(\"\\nPhishing -> Web_traffic\")\n",
    "run_calculations(\"Ph\", \"T\")\n",
    "\n",
    "print(\"\\nPhishing -> SSL_final_state\")\n",
    "run_calculations(\"Ph\", \"H\")\n",
    "\n",
    "print(\"\\nhaving_IP_address -> URL_length, conditioning on Phishing\")\n",
    "run_calculations(\"I\", \"L\", \"Ph\")\n",
    "\n",
    "print(\"\\nPop_up_window -> URL_of_anchor, conditioning on phishing\")\n",
    "run_calculations(\"P\", \"A\", \"Ph\")\n",
    "\n",
    "print(\"\\nPop_up_window -> Request_URL, conditioning on phishing\")\n",
    "run_calculations(\"P\", \"R\", \"Ph\")\n",
    "\n",
    "print(\"\\nSFH -> URL_of_anchor, conditioning on phishing\")\n",
    "run_calculations(\"Ph\", \"H\", \"Ph\")\n",
    "\n",
    "print(\"\\nSFH -> Request_URL, conditioning on phishing\")\n",
    "run_calculations(\"S\", \"R\", \"Ph\")\n",
    "\n",
    "print(\"\\nAge_of_domain -> Web_traffic, conditioning on phishing\")\n",
    "run_calculations(\"D\", \"T\", \"Ph\")"
   ]
  }
 ],
 "metadata": {
  "kernelspec": {
   "display_name": "Python 3",
   "language": "python",
   "name": "python3"
  },
  "language_info": {
   "codemirror_mode": {
    "name": "ipython",
    "version": 3
   },
   "file_extension": ".py",
   "mimetype": "text/x-python",
   "name": "python",
   "nbconvert_exporter": "python",
   "pygments_lexer": "ipython3",
   "version": "3.6.3"
  }
 },
 "nbformat": 4,
 "nbformat_minor": 2
}
