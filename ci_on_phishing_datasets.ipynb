{
 "cells": [
  {
   "cell_type": "code",
   "execution_count": 1,
   "metadata": {},
   "outputs": [],
   "source": [
    "from scipy.io import arff\n",
    "import pandas as pd\n",
    "import calculate"
   ]
  },
  {
   "cell_type": "markdown",
   "metadata": {},
   "source": [
    "For some of the attributes, we have 1=legit, 0=suspicious, and -1=phishy. To simplify, we binarize these variables putting the suspicious websites in with the phishy ones setting the labels to 1=legit and 0=phishy."
   ]
  },
  {
   "cell_type": "code",
   "execution_count": 2,
   "metadata": {},
   "outputs": [],
   "source": [
    "load_data1 = arff.loadarff('Phishing1.arff')\n",
    "df1 = pd.DataFrame(load_data1[0]).astype(int)\n",
    "df1=(df1.replace(-1,0)).values # move -1 (phishy) to 0 (suspicious), 0 is now phishy\n",
    "\n",
    "load_data2 = arff.loadarff('Phishing2.arff')\n",
    "df2 = pd.DataFrame(load_data2[0]).astype(int)\n",
    "df2=(df2.replace(-1,0)).values"
   ]
  },
  {
   "cell_type": "code",
   "execution_count": 3,
   "metadata": {},
   "outputs": [],
   "source": [
    "p1_index={\"S\":0, \"P\":1, \"H\":2, \"R\":3, \"A\":4, \"T\":5, \"L\":6, \"D\":7, \"I\":8, \"Ph\":9}\n",
    "p2_index = {\"I\":0, \"L\":1, \"H\":7, \"R\":12, \"A\":13, \"S\":15, \"P\":21, \"D\":23, \"T\":25, \"Ph\":30}"
   ]
  },
  {
   "cell_type": "code",
   "execution_count": 4,
   "metadata": {},
   "outputs": [],
   "source": [
    "def run_caluclations(a, y, l=None):\n",
    "    print(\"Phishing 1:\")\n",
    "    calculate.calculate_ass_effects(df1, p1_index[a], p1_index[y], l)\n",
    "    \n",
    "    print(\"Phishing 2:\")\n",
    "    calculate.calculate_ass_effects(df2, p2_index[a], p2_index[y], l)"
   ]
  },
  {
   "cell_type": "markdown",
   "metadata": {},
   "source": [
    "Put the Graph Here"
   ]
  },
  {
   "cell_type": "code",
   "execution_count": null,
   "metadata": {
    "collapsed": true
   },
   "outputs": [],
   "source": [
    "print(\"Phishing -> SSL_final_state\")\n",
    "run_caluclation(\"Ph\", \"H\")\n",
    "\n",
    "print(\"Phishing -> having_IP_address\")\n",
    "run_caluclation(\"Ph\", \"I\")\n",
    "\n",
    "print(\"Phishing -> URL_length\")\n",
    "run_caluclation(\"Ph\", \"L\")\n",
    "\n",
    "print(\"Phishing -> SFH\")\n",
    "run_caluclation(\"Ph\", \"S\")\n",
    "\n",
    "print(\"Phishing -> URL_of_anchor\")\n",
    "run_caluclation(\"Ph\", \"A\")\n",
    "\n",
    "print(\"Phishing -> Pop_up_window\")\n",
    "run_caluclation(\"Ph\", \"P\")\n",
    "\n",
    "print(\"Phishing -> Request_URL\")\n",
    "run_caluclation(\"Ph\", \"R\")\n",
    "\n",
    "print(\"Phishing -> Age_of_domain\")\n",
    "run_caluclation(\"Ph\", \"D\")\n",
    "\n",
    "print(\"Phishing -> Web_traffic\")\n",
    "run_caluclation(\"Ph\", \"T\")\n",
    "\n",
    "print(\"Phishing -> SSL_final_state\")\n",
    "run_caluclation(\"Ph\", \"H\")\n",
    "\n",
    "print(\"having_IP_address -> URL_length, conditioning on Phishing\")\n",
    "run_caluclation(\"I\", \"L\", \"Ph\")\n",
    "\n",
    "print(\"Pop_up_window -> URL_of_anchor, conditioning on phishing\")\n",
    "run_caluclation(\"P\", \"A\", \"Ph\")\n",
    "\n",
    "print(\"Pop_up_window -> Request_URL, conditioning on phishing\")\n",
    "run_caluclation(\"P\", \"R\", \"Ph\")\n",
    "\n",
    "print(\"SFH -> URL_of_anchor, conditioning on phishing\")\n",
    "run_caluclation(\"Ph\", \"H\", \"Ph\")\n",
    "\n",
    "print(\"SFH -> Request_URL, conditioning on phishing\")\n",
    "run_caluclation(\"S\", \"R\", \"Ph\")\n",
    "\n",
    "print(\"Age_of_domain -> Web_traffic, conditioning on phishing\")\n",
    "run_caluclation(\"D\", \"T\", \"Ph\")"
   ]
  }
 ],
 "metadata": {
  "kernelspec": {
   "display_name": "Python 3",
   "language": "python",
   "name": "python3"
  },
  "language_info": {
   "codemirror_mode": {
    "name": "ipython",
    "version": 3
   },
   "file_extension": ".py",
   "mimetype": "text/x-python",
   "name": "python",
   "nbconvert_exporter": "python",
   "pygments_lexer": "ipython3",
   "version": "3.6.3"
  }
 },
 "nbformat": 4,
 "nbformat_minor": 2
}
